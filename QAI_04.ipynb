{
  "nbformat": 4,
  "nbformat_minor": 0,
  "metadata": {
    "colab": {
      "provenance": []
    },
    "kernelspec": {
      "name": "python3",
      "display_name": "Python 3"
    },
    "language_info": {
      "name": "python"
    }
  },
  "cells": [
    {
      "cell_type": "code",
      "execution_count": null,
      "metadata": {
        "id": "xEKrz-vGAJiA"
      },
      "outputs": [],
      "source": [
        "from qiskit import QuantumCircuit, execute, Aer\n",
        "from qiskit.visualization import plot_bloch_multivector, plot_histogram"
      ]
    },
    {
      "cell_type": "code",
      "source": [
        "# Create a Quantum Circuit with 3 qubits and 3 classical bits\n",
        "circuit = QuantumCircuit(3, 3)"
      ],
      "metadata": {
        "id": "PlqYU1VHBmUt"
      },
      "execution_count": null,
      "outputs": []
    },
    {
      "cell_type": "code",
      "source": [
        "\n",
        "# Step 1: Create Bell Pair (Entanglement)\n",
        "circuit.h(1)            # Hadamard gate on qubit 1\n",
        "circuit.cx(1, 2)        # CNOT gate on qubit 1 and 2 (control on 1, target on 2)"
      ],
      "metadata": {
        "id": "fvlagG3vBmC1"
      },
      "execution_count": null,
      "outputs": []
    },
    {
      "cell_type": "code",
      "source": [
        "\n",
        "# Step 2: Prepare the state to be teleported (|ψ> = a|0> + b|1>)\n",
        "circuit.cx(0, 1)        # CNOT gate on qubit 0 and 1 (control on 0, target on 1)\n",
        "circuit.h(0)            # Hadamard gate on qubit 0"
      ],
      "metadata": {
        "id": "5MdAdJmSBl__"
      },
      "execution_count": null,
      "outputs": []
    },
    {
      "cell_type": "code",
      "source": [
        "\n",
        "# Step 3: Bell measurement of qubit 0 and 1\n",
        "circuit.measure([0, 1], [0, 1])  # Measure qubits 0 and 1"
      ],
      "metadata": {
        "id": "LUIgfaGvBl8o"
      },
      "execution_count": null,
      "outputs": []
    },
    {
      "cell_type": "code",
      "source": [
        "\n",
        "# Step 4: Apply corrections on qubit 2 based on measurement outcomes\n",
        "circuit.cx(1, 2)        # CNOT gate on qubit 1 and 2 (control on 1, target on 2)\n",
        "circuit.cz(0, 2)        # CZ gate on qubit 0 and 2"
      ],
      "metadata": {
        "id": "5tftcP7RBwtT"
      },
      "execution_count": null,
      "outputs": []
    },
    {
      "cell_type": "code",
      "source": [
        "# Measure the final state of qubit 2\n",
        "circuit.measure(2, 2)"
      ],
      "metadata": {
        "id": "WIrqvSu1Bwgs"
      },
      "execution_count": null,
      "outputs": []
    },
    {
      "cell_type": "code",
      "source": [
        "# Execute the circuit on the QASM simulator\n",
        "simulator = Aer.get_backend('qasm_simulator')\n",
        "job = execute(circuit, simulator, shots=1024)\n",
        "result = job.result()\n",
        "counts = result.get_counts(circuit)"
      ],
      "metadata": {
        "id": "L_XPBW3WBwZx"
      },
      "execution_count": null,
      "outputs": []
    },
    {
      "cell_type": "code",
      "source": [
        "# Visualize the results\n",
        "plot_histogram(counts)"
      ],
      "metadata": {
        "id": "vio388L0B26C"
      },
      "execution_count": null,
      "outputs": []
    },
    {
      "cell_type": "code",
      "source": [
        "\n",
        "circuit.draw(output='mpl')"
      ],
      "metadata": {
        "id": "V3s0HaEoB5G_"
      },
      "execution_count": null,
      "outputs": []
    }
  ]
}