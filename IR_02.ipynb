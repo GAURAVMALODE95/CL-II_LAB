{
  "nbformat": 4,
  "nbformat_minor": 0,
  "metadata": {
    "colab": {
      "provenance": []
    },
    "kernelspec": {
      "name": "python3",
      "display_name": "Python 3"
    },
    "language_info": {
      "name": "python"
    }
  },
  "cells": [
    {
      "cell_type": "code",
      "execution_count": 1,
      "metadata": {
        "id": "XovsXnWK88Gd"
      },
      "outputs": [],
      "source": [
        "document1 = \"The quick brown fox jumped over the lazy dog.\"\n",
        "document2 = \"The lazy dog slept in the sun.\""
      ]
    },
    {
      "cell_type": "code",
      "source": [
        "# Convert each document to lowercase and split it into words\n",
        "tokens1 = document1.lower().split()\n",
        "tokens2 = document2.lower().split()\n",
        "print(f\"Token1 : {tokens1}\")\n",
        "print(f\"\\n\\nToken2 : {tokens2}\")"
      ],
      "metadata": {
        "colab": {
          "base_uri": "https://localhost:8080/"
        },
        "id": "qp1SvNCC_HOU",
        "outputId": "687f0e2c-7c2b-493a-9cbf-b612e76319eb"
      },
      "execution_count": 2,
      "outputs": [
        {
          "output_type": "stream",
          "name": "stdout",
          "text": [
            "Token1 : ['the', 'quick', 'brown', 'fox', 'jumped', 'over', 'the', 'lazy', 'dog.']\n",
            "\n",
            "\n",
            "Token2 : ['the', 'lazy', 'dog', 'slept', 'in', 'the', 'sun.']\n"
          ]
        }
      ]
    },
    {
      "cell_type": "code",
      "source": [
        "# Combine the tokens into a list of unique terms\n",
        "terms = list(set(tokens1 + tokens2))\n",
        "print(f\"Terms : {terms}\")"
      ],
      "metadata": {
        "colab": {
          "base_uri": "https://localhost:8080/"
        },
        "id": "QkCbIPvU_J0P",
        "outputId": "28953cc4-4b00-44c7-f950-87027938b81b"
      },
      "execution_count": 3,
      "outputs": [
        {
          "output_type": "stream",
          "name": "stdout",
          "text": [
            "Terms : ['in', 'dog.', 'fox', 'sun.', 'the', 'dog', 'jumped', 'over', 'quick', 'slept', 'brown', 'lazy']\n"
          ]
        }
      ]
    },
    {
      "cell_type": "code",
      "source": [
        "# Create an empty dictionary to store the inverted index\n",
        "inverted_index = {}\n",
        "\n",
        "# For each term, find the documents that contain it\n",
        "for term in terms:\n",
        "    documents = []\n",
        "    if term in tokens1:\n",
        "        documents.append(\"Document 1\")\n",
        "    if term in tokens2:\n",
        "        documents.append(\"Document 2\")\n",
        "    inverted_index[term] = documents\n",
        "\n",
        "print(f\"Inverted Index Dictionary : \\n{inverted_index}\")"
      ],
      "metadata": {
        "colab": {
          "base_uri": "https://localhost:8080/"
        },
        "id": "V3yuij9i_Xtl",
        "outputId": "9a1fd289-2f80-4761-ae9e-87fa3a9ba5dd"
      },
      "execution_count": 4,
      "outputs": [
        {
          "output_type": "stream",
          "name": "stdout",
          "text": [
            "Inverted Index Dictionary : \n",
            "{'in': ['Document 2'], 'dog.': ['Document 1'], 'fox': ['Document 1'], 'sun.': ['Document 2'], 'the': ['Document 1', 'Document 2'], 'dog': ['Document 2'], 'jumped': ['Document 1'], 'over': ['Document 1'], 'quick': ['Document 1'], 'slept': ['Document 2'], 'brown': ['Document 1'], 'lazy': ['Document 1', 'Document 2']}\n"
          ]
        }
      ]
    },
    {
      "cell_type": "code",
      "source": [
        "# Print inverted index\n",
        "for term, documents in inverted_index.items():\n",
        "    print(f\"{term} -> {', '.join(documents)}\")"
      ],
      "metadata": {
        "colab": {
          "base_uri": "https://localhost:8080/"
        },
        "id": "Go_ZuaxK_auQ",
        "outputId": "cac85985-f477-4adb-d5b2-c0a6354713df"
      },
      "execution_count": 5,
      "outputs": [
        {
          "output_type": "stream",
          "name": "stdout",
          "text": [
            "in -> Document 2\n",
            "dog. -> Document 1\n",
            "fox -> Document 1\n",
            "sun. -> Document 2\n",
            "the -> Document 1, Document 2\n",
            "dog -> Document 2\n",
            "jumped -> Document 1\n",
            "over -> Document 1\n",
            "quick -> Document 1\n",
            "slept -> Document 2\n",
            "brown -> Document 1\n",
            "lazy -> Document 1, Document 2\n"
          ]
        }
      ]
    },
    {
      "cell_type": "code",
      "source": [],
      "metadata": {
        "id": "8I6pF4fZ_t_k"
      },
      "execution_count": null,
      "outputs": []
    }
  ]
}