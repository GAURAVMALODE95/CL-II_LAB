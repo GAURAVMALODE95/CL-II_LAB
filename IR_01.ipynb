{
  "nbformat": 4,
  "nbformat_minor": 0,
  "metadata": {
    "colab": {
      "provenance": []
    },
    "kernelspec": {
      "name": "python3",
      "display_name": "Python 3"
    },
    "language_info": {
      "name": "python"
    }
  },
  "cells": [
    {
      "cell_type": "code",
      "execution_count": 1,
      "metadata": {
        "colab": {
          "base_uri": "https://localhost:8080/"
        },
        "id": "C_I5xw3Dzml_",
        "outputId": "f09f422b-ff84-46d8-a0f2-c964282ba94d"
      },
      "outputs": [
        {
          "output_type": "stream",
          "name": "stdout",
          "text": [
            "Requirement already satisfied: nltk in /usr/local/lib/python3.10/dist-packages (3.8.1)\n",
            "Requirement already satisfied: click in /usr/local/lib/python3.10/dist-packages (from nltk) (8.1.7)\n",
            "Requirement already satisfied: joblib in /usr/local/lib/python3.10/dist-packages (from nltk) (1.4.2)\n",
            "Requirement already satisfied: regex>=2021.8.3 in /usr/local/lib/python3.10/dist-packages (from nltk) (2024.9.11)\n",
            "Requirement already satisfied: tqdm in /usr/local/lib/python3.10/dist-packages (from nltk) (4.66.6)\n"
          ]
        }
      ],
      "source": [
        "!pip install nltk"
      ]
    },
    {
      "cell_type": "code",
      "source": [
        "import nltk\n",
        "from nltk.corpus import stopwords\n",
        "from nltk.tokenize import word_tokenize\n",
        "from nltk.stem import PorterStemmer\n",
        "nltk.download('punkt')\n",
        "nltk.download('stopwords')"
      ],
      "metadata": {
        "colab": {
          "base_uri": "https://localhost:8080/"
        },
        "id": "G6k22W-i0m1S",
        "outputId": "847d5afa-50f6-4c83-81c5-d036dbb11f06"
      },
      "execution_count": 5,
      "outputs": [
        {
          "output_type": "stream",
          "name": "stderr",
          "text": [
            "[nltk_data] Downloading package punkt to /root/nltk_data...\n",
            "[nltk_data]   Unzipping tokenizers/punkt.zip.\n",
            "[nltk_data] Downloading package stopwords to /root/nltk_data...\n",
            "[nltk_data]   Unzipping corpora/stopwords.zip.\n"
          ]
        },
        {
          "output_type": "execute_result",
          "data": {
            "text/plain": [
              "True"
            ]
          },
          "metadata": {},
          "execution_count": 5
        }
      ]
    },
    {
      "cell_type": "code",
      "source": [
        "def preprocess_text(text):\n",
        "    # Tokenize the text\n",
        "    words = word_tokenize(text)\n",
        "\n",
        "    # Convert to lowercase\n",
        "    words = [word.lower() for word in words]\n",
        "\n",
        "    # Remove punctuation and non-alphabetic tokens\n",
        "    words = [word for word in words if word.isalpha()]\n",
        "\n",
        "    # Remove stop words\n",
        "    stop_words = set(stopwords.words('english'))\n",
        "    words_no_stopwords = [word for word in words if word not in stop_words]\n",
        "\n",
        "    # Stemming\n",
        "    stemmer = PorterStemmer()\n",
        "    words_stemmed = [stemmer.stem(word) for word in words_no_stopwords]\n",
        "\n",
        "    return words_no_stopwords, words_stemmed"
      ],
      "metadata": {
        "id": "QhV5s-ZU0qLF"
      },
      "execution_count": 8,
      "outputs": []
    },
    {
      "cell_type": "code",
      "source": [
        "text = \"\"\"Natural Language Processing (NLP) is a field of artificial intelligence that gives the machines the ability to read, understand and derive meaning from human languages.\"\"\"\n",
        "\n",
        "words_no_stopwords, words_stemmed = preprocess_text(text)\n",
        "\n",
        "print(\"After stop word removal:\", words_no_stopwords)\n",
        "print(\"After stemming:\", words_stemmed)"
      ],
      "metadata": {
        "colab": {
          "base_uri": "https://localhost:8080/"
        },
        "id": "gbM2YbTn00FV",
        "outputId": "727b0453-c239-4687-ca84-0c94d7121045"
      },
      "execution_count": 10,
      "outputs": [
        {
          "output_type": "stream",
          "name": "stdout",
          "text": [
            "After stop word removal: ['natural', 'language', 'processing', 'nlp', 'field', 'artificial', 'intelligence', 'gives', 'machines', 'ability', 'read', 'understand', 'derive', 'meaning', 'human', 'languages']\n",
            "After stemming: ['natur', 'languag', 'process', 'nlp', 'field', 'artifici', 'intellig', 'give', 'machin', 'abil', 'read', 'understand', 'deriv', 'mean', 'human', 'languag']\n"
          ]
        }
      ]
    },
    {
      "cell_type": "code",
      "source": [
        "input_file_path = 'input.txt'\n",
        "with open(input_file_path, 'r') as file:\n",
        "    text = file.read()"
      ],
      "metadata": {
        "id": "hZCW51W903vj"
      },
      "execution_count": 11,
      "outputs": []
    },
    {
      "cell_type": "code",
      "source": [
        "words_no_stopwords, words_stemmed = preprocess_text(text)\n",
        "\n",
        "# Save the results to output files\n",
        "output_no_stopwords_file_path = 'output_no_stopwords.txt'\n",
        "output_stemmed_file_path = 'output_stemmed.txt'\n",
        "\n",
        "with open(output_no_stopwords_file_path, 'w') as file:\n",
        "    file.write(' '.join(words_no_stopwords))\n",
        "\n",
        "with open(output_stemmed_file_path, 'w') as file:\n",
        "    file.write(' '.join(words_stemmed))\n",
        "\n",
        "print(f\"Processed text saved to {output_no_stopwords_file_path} and {output_stemmed_file_path}\")"
      ],
      "metadata": {
        "colab": {
          "base_uri": "https://localhost:8080/"
        },
        "id": "Ugybusiq8q3k",
        "outputId": "cdbeda7c-2da7-4f12-b0b1-51d8857b627c"
      },
      "execution_count": 12,
      "outputs": [
        {
          "output_type": "stream",
          "name": "stdout",
          "text": [
            "Processed text saved to output_no_stopwords.txt and output_stemmed.txt\n"
          ]
        }
      ]
    },
    {
      "cell_type": "code",
      "source": [],
      "metadata": {
        "id": "txYxK35A8v0f"
      },
      "execution_count": null,
      "outputs": []
    }
  ]
}